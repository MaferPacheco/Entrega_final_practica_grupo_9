{
 "cells": [
  {
   "cell_type": "markdown",
   "metadata": {},
   "source": [
    "# EJERCICIO 1---- Web Scraping con Beautiful Soup\n",
    "\n",
    "GRUPO 9 \n",
    "\n",
    "1. Jonathan Álvarez\n",
    "2. Juan Arias\n",
    "3. María Fernanda Pacheco\n",
    "4. Jairo Siza\n",
    "\n",
    "Íconos usados en este cuaderno\n",
    "\n",
    "🔔 Pregunta: Una pregunta rápida para ayudarte a entender qué está pasando. 🥊 Desafío: Ejercicio interactivo. ¡Lo resolveremos en el taller! ⚠️ Advertencia: Atención sobre aspectos complejos o errores comunes. 💡 Consejo: Cómo hacer algo de forma más eficiente o efectiva. 🎬 Demo: Presentación de algo más avanzado para que sepas para qué se puede usar Python.\n",
    "\n",
    "# Objetivos de aprendizaje\n",
    "\n",
    "\n",
    "1. Reflexión: ¿Extraer o no extraer datos?\n",
    "2. Extracción y análisis de HTML.\n",
    "3. Extraer datos de la Asamblea General de Illinois"
   ]
  },
  {
   "cell_type": "markdown",
   "metadata": {},
   "source": [
    "# Extraer o no extraer datos\n",
    "\n",
    "Para acceder a datos de la web, primero debemos asegurarnos de que el sitio web que nos interesa ofrezca una API web. Plataformas como Twitter, Reddit y el New York Times ofrecen API. **Consulta el taller sobre API web en Python de D-Lab si quieres aprender a usarlas.**\n",
    "\n",
    "Sin embargo, a menudo no existe una API web. En estos casos, podemos recurrir al web scraping, donde extraemos el HTML subyacente de una página web y obtenemos directamente la información que buscamos. Existen varios paquetes en Python que podemos usar para realizar estas tareas. Nos centraremos en dos paquetes: Requests y Beautiful Soup.\n",
    "\n",
    "Nuestro caso práctico consistirá en extraer información sobre los senadores estatales de Illinois, así como la lista de proyectos de ley que cada senador ha patrocinado. Antes de comenzar, revise estos sitios web para observar su estructura.\n"
   ]
  },
  {
   "cell_type": "markdown",
   "metadata": {},
   "source": [
    "# Instalación\n",
    "\n",
    "Usaremos dos paquetes principales: Requests y Beautiful Soup. Continúe instalando estos paquetes, si aún no lo ha hecho:\n"
   ]
  },
  {
   "cell_type": "code",
   "execution_count": 1,
   "metadata": {
    "execution": {
     "iopub.execute_input": "2025-03-23T22:35:25.211846Z",
     "iopub.status.busy": "2025-03-23T22:35:25.211648Z",
     "iopub.status.idle": "2025-03-23T22:35:30.961012Z",
     "shell.execute_reply": "2025-03-23T22:35:30.959818Z",
     "shell.execute_reply.started": "2025-03-23T22:35:25.211824Z"
    }
   },
   "outputs": [
    {
     "name": "stdout",
     "output_type": "stream",
     "text": [
      "Requirement already satisfied: requests in /usr/local/lib/python3.10/dist-packages (2.32.3)\n",
      "Requirement already satisfied: charset-normalizer<4,>=2 in /usr/local/lib/python3.10/dist-packages (from requests) (3.4.1)\n",
      "Requirement already satisfied: idna<4,>=2.5 in /usr/local/lib/python3.10/dist-packages (from requests) (3.10)\n",
      "Requirement already satisfied: urllib3<3,>=1.21.1 in /usr/local/lib/python3.10/dist-packages (from requests) (2.3.0)\n",
      "Requirement already satisfied: certifi>=2017.4.17 in /usr/local/lib/python3.10/dist-packages (from requests) (2025.1.31)\n"
     ]
    }
   ],
   "source": [
    "!pip install requests"
   ]
  },
  {
   "cell_type": "code",
   "execution_count": 2,
   "metadata": {
    "execution": {
     "iopub.execute_input": "2025-03-23T22:35:37.018855Z",
     "iopub.status.busy": "2025-03-23T22:35:37.018506Z",
     "iopub.status.idle": "2025-03-23T22:35:40.300718Z",
     "shell.execute_reply": "2025-03-23T22:35:40.299625Z",
     "shell.execute_reply.started": "2025-03-23T22:35:37.018824Z"
    }
   },
   "outputs": [
    {
     "name": "stdout",
     "output_type": "stream",
     "text": [
      "Requirement already satisfied: beautifulsoup4 in /usr/local/lib/python3.10/dist-packages (4.12.3)\n",
      "Requirement already satisfied: soupsieve>1.2 in /usr/local/lib/python3.10/dist-packages (from beautifulsoup4) (2.6)\n"
     ]
    }
   ],
   "source": [
    "!pip install beautifulsoup4"
   ]
  },
  {
   "cell_type": "markdown",
   "metadata": {},
   "source": [
    "También instalaremos el paquete lxml, que ayuda a respaldar parte del análisis que realiza Beautiful Soup:"
   ]
  },
  {
   "cell_type": "code",
   "execution_count": 3,
   "metadata": {
    "execution": {
     "iopub.execute_input": "2025-03-23T22:35:45.290524Z",
     "iopub.status.busy": "2025-03-23T22:35:45.290211Z",
     "iopub.status.idle": "2025-03-23T22:35:48.564592Z",
     "shell.execute_reply": "2025-03-23T22:35:48.563215Z",
     "shell.execute_reply.started": "2025-03-23T22:35:45.290502Z"
    }
   },
   "outputs": [
    {
     "name": "stdout",
     "output_type": "stream",
     "text": [
      "Requirement already satisfied: lxml in /usr/local/lib/python3.10/dist-packages (5.3.0)\n"
     ]
    }
   ],
   "source": [
    "!pip install lxml"
   ]
  },
  {
   "cell_type": "code",
   "execution_count": 4,
   "metadata": {
    "execution": {
     "iopub.execute_input": "2025-03-23T22:35:52.972060Z",
     "iopub.status.busy": "2025-03-23T22:35:52.971713Z",
     "iopub.status.idle": "2025-03-23T22:35:53.374743Z",
     "shell.execute_reply": "2025-03-23T22:35:53.373502Z",
     "shell.execute_reply.started": "2025-03-23T22:35:52.972003Z"
    },
    "tags": []
   },
   "outputs": [],
   "source": [
    "# Import required libraries\n",
    "from bs4 import BeautifulSoup\n",
    "from datetime import datetime\n",
    "import requests\n",
    "import time"
   ]
  },
  {
   "cell_type": "markdown",
   "metadata": {},
   "source": [
    "# Extracción y análisis de HTML\n",
    "\n",
    "Para extraer y analizar HTML correctamente, seguiremos los siguientes 4 pasos:\n",
    "\n",
    "\n",
    "1. Realizar una solicitud GET\n",
    "2. Analizar la página con Beautiful Soup\n",
    "3. Buscar elementos HTML\n",
    "4. Obtener los atributos y el texto de estos elementos\n",
    "\n"
   ]
  },
  {
   "cell_type": "markdown",
   "metadata": {},
   "source": [
    "# Paso 1: Realizar una solicitud GET para obtener el HTML de una página\n",
    "\n",
    "Podemos usar la biblioteca Requests para:\n",
    "\n",
    "\n",
    "1. Realizar una solicitud GET a la página y\n",
    "2. Leer el código HTML de la página web.\n",
    "\n",
    "\n",
    "El proceso de realizar una solicitud y obtener un resultado es similar al del flujo de trabajo de la API web. Sin embargo, ahora realizamos una solicitud directamente al sitio web y tendremos que analizar el HTML nosotros mismos. Esto contrasta con recibir datos organizados en una salida JSON o XML más sencilla.\n"
   ]
  },
  {
   "cell_type": "code",
   "execution_count": 8,
   "metadata": {
    "execution": {
     "iopub.execute_input": "2025-03-23T22:37:37.791407Z",
     "iopub.status.busy": "2025-03-23T22:37:37.791012Z",
     "iopub.status.idle": "2025-03-23T22:37:38.270742Z",
     "shell.execute_reply": "2025-03-23T22:37:38.269822Z",
     "shell.execute_reply.started": "2025-03-23T22:37:37.791367Z"
    },
    "tags": []
   },
   "outputs": [
    {
     "name": "stdout",
     "output_type": "stream",
     "text": [
      "<html lang=\"en\"> \n",
      "<!-- Trigger/Open The Modal -->\n",
      "<div style=\"position: fixed; z-index: 999; top: 5; left: 600; background-color: navy; display: block\">\n",
      "<button id=\"myBtn\" style=\"color: white; background-color: navy; display: block\">Translate Website</button></div>\n",
      "<!-- The Modal -->\n",
      "<div id=\"myModal\" class=\"modal\" style=\"display: none\">\n",
      "  <!-- Modal content -->\n",
      "  <div class=\"modal-content\">\n",
      "      <div class=\"modal-header\"><h3>\n",
      "    <span class=\"close\">&times;</span></h3></div>    \n",
      "    <p>The Illinois General Assembly offers the Google Translate service for visitor convenience. In no way should it be considered accurate as to the translation of any content herein.</p>\n",
      "    <p>Visitors of the Illinois General Assembly website are encouraged to use other translation services available on the internet.</p>\n",
      "    <p>The English language version is always the official and authoritative version of this website.</p>\n",
      "    <p>NOTE: To return to the original English language version, select the \"Show Original\" button on the Google Translate menu bar at the top of the window.</p>  \n",
      "      <div style=\"text-align: center\">Powered by <span style=\"white-space: nowrap\"><a class=\"goog-logo-link\" href=\"https://translate.google.com\" target=\"_blank\"><img width=\"37\" height=\"14\" style=\"padding-right: 3px;\" alt=\"Google Translate\" src=\"https://www.gstatic.com/images/branding/googlelogo/1x/googlelogo_color_42x16dp.png\">Translate</a></span></div>\n",
      "             <div style=\"text-align: center\" id=\"google_translate_element\"></div><br /><br />             \n",
      "       <div class=\"modal-footer\">\n",
      "          <h4></h4>\n",
      "      </div>\n",
      "  </div>\n",
      "</div>    \n",
      "\n",
      "<script type=\"text/javascript\">\n",
      "    function googleTranslateWidgetInit() {\n",
      "        new google.translate.TranslateElement({ pageLanguage: 'en', layout: google.translate.TranslateElement.InlineLayout.SIMPLE, autoDisplay: false }, 'google_translate_element');\n",
      "    }\n",
      "</script><script type=\"text/javascript\" src=\"//translate.google.com/translate_a/element.js?cb=googleTranslateWidgetInit\"></script> \n",
      "<script type=\"text/javascript\">\n",
      "    // Get the modal\n",
      "    var modal = document.getElementById('myModal');\n",
      "    // Get the button that opens the modal\n",
      "    var btn = document.getElementById(\"myBtn\");\n",
      "    // Get the <span> element that closes the modal\n",
      "    var span = document.getElementsByClassName(\"close\")[0];\n",
      "    // When the user clicks on the button, open the modal \n",
      "    btn.onclick = function () {\n",
      "        modal.style.display = \"block\";\n",
      "    }\n",
      "    // When the user clicks on <span> (x), close the modal\n",
      "    span.onclick = function () {\n",
      "        modal.style.display = \"none\";\n",
      "    }\n",
      "    // When the user clicks anywhere outside of the modal, close it\n",
      "    window.onclick = function (event) {\n",
      "        if (event.target == modal) {\n",
      "            modal.style.display = \"none\";\n",
      "        }\n",
      "    }\n",
      "</script>\n",
      "\n",
      "<div id = \"divBackground\" style=\"position: fixed; z-index: 999; height: 100%; width: 100%; top: 0; left:0; background-color: \n"
     ]
    }
   ],
   "source": [
    "# Make a GET request\n",
    "req = requests.get('https://www.ilga.gov/senate/default.asp')\n",
    "# Read the content of the server’s response\n",
    "src = req.text\n",
    "# View some output\n",
    "print(src[:3000])"
   ]
  },
  {
   "cell_type": "markdown",
   "metadata": {},
   "source": [
    "# Paso 2: Analizar la página con Beautiful Soup\n",
    "\n",
    "Ahora, usamos la función BeautifulSoup para analizar la respuesta en un árbol HTML. Esto devuelve un objeto (llamado objeto soup) que contiene todo el HTML del documento original.\n",
    "\n",
    "Si se produce un error relacionado con una biblioteca de análisis, asegúrese de haber instalado el paquete lxml para que Beautiful Soup cuente con las herramientas de análisis necesarias.\n"
   ]
  },
  {
   "cell_type": "code",
   "execution_count": 7,
   "metadata": {
    "execution": {
     "iopub.execute_input": "2025-03-23T22:37:23.970666Z",
     "iopub.status.busy": "2025-03-23T22:37:23.970357Z",
     "iopub.status.idle": "2025-03-23T22:37:24.002218Z",
     "shell.execute_reply": "2025-03-23T22:37:24.001059Z",
     "shell.execute_reply.started": "2025-03-23T22:37:23.970638Z"
    }
   },
   "outputs": [
    {
     "name": "stdout",
     "output_type": "stream",
     "text": [
      "<html lang=\"en\">\n",
      " <!-- Trigger/Open The Modal -->\n",
      " <body>\n",
      "  <div style=\"position: fixed; z-index: 999; top: 5; left: 600; background-color: navy; display: block\">\n",
      "   <button id=\"myBtn\" style=\"color: white; background-color: navy; display: block\">\n",
      "    Translate Website\n",
      "   </button>\n",
      "  </div>\n",
      "  <!-- The Modal -->\n",
      "  <div class=\"modal\" id=\"myModal\" style=\"display: none\">\n",
      "   <!-- Modal content -->\n",
      "   <div class=\"modal-content\">\n",
      "    <div class=\"modal-header\">\n",
      "     <h3>\n",
      "      <span class=\"close\">\n",
      "       ×\n",
      "      </span>\n",
      "     </h3>\n",
      "    </div>\n",
      "    <p>\n",
      "     The Illinois General Assembly offers the Google Translate service for visitor convenience. In no way should it be considered accurate as to the translation of any content herein.\n",
      "    </p>\n",
      "    <p>\n",
      "     Visitors of the Illinois General Assembly website are encouraged to use other translation services available on the internet.\n",
      "    </p>\n",
      "    <p>\n",
      "     The English language version is always the official and authoritative version of this website.\n",
      "    </p>\n",
      "    <p>\n",
      "     NOTE: To return to the original English language version, select the \"Show Original\" button on the Google Translate menu bar at the top of the window.\n",
      "    </p>\n",
      "    <div style=\"text-align: center\">\n",
      "     Powered by\n",
      "     <span style=\"white-space: nowrap\">\n",
      "      <a class=\"goog-logo-link\" href=\"https://translate.google.com\" target=\"_blank\">\n",
      "       <img alt=\"Google Translate\" height=\"14\" src=\"https://www.gstatic.com/images/branding/googlelogo/1x/googlelogo_color_42x16dp.png\" style=\"padding-right: 3px;\" width=\"37\"/>\n",
      "       Translate\n",
      "      </a>\n",
      "     </span>\n",
      "    </div>\n",
      "    <div id=\"google_translate_element\" style=\"text-align: center\">\n",
      "    </div>\n",
      "    <br/>\n",
      "    <br/>\n",
      "    <div class=\"modal-footer\">\n",
      "     <h4>\n",
      "     </h4>\n",
      "    </div>\n",
      "   </div>\n",
      "  </div>\n",
      "  <script type=\"text/javascript\">\n",
      "   function googleTranslateWidgetInit() {\n",
      "        new google.translate.TranslateElement({ pageLanguage: 'en', layout: google.translate.TranslateElement.InlineLayout.SIMPLE, autoDisplay: false }, 'google_translate_element');\n",
      "    }\n",
      "  </script>\n",
      "  <script src=\"//translate.google.com/translate_a/element.js?cb=googleTranslateWidgetInit\" type=\"text/javascript\">\n",
      "  </script>\n",
      "  <script type=\"text/javascript\">\n",
      "   // Get the modal\n",
      "    var modal = document.getElementById('myModal');\n",
      "    // Get the button that opens the modal\n",
      "    var btn = document.getElementById(\"myBtn\");\n",
      "    // Get the <span> element that closes the modal\n",
      "    var span = document.getElementsByClassName(\"close\")[0];\n",
      "    // When the user clicks on the button, open the modal \n",
      "    btn.onclick = function () {\n",
      "        modal.style.display = \"block\";\n",
      "    }\n",
      "    // When the user clicks on <span> (x), close the modal\n",
      "    span.onclick = function () {\n",
      "        modal.style.display = \"none\";\n",
      "    }\n",
      "    // When the user clicks anywhere outside of the modal, close it\n",
      "    window.onclick = function (event) {\n",
      "        if (event.target == modal) {\n",
      "            modal.style.display = \"none\";\n",
      "        }\n",
      "    }\n",
      "  </script>\n",
      "  <div id=\"di\n"
     ]
    }
   ],
   "source": [
    "# Parse the response into an HTML tree\n",
    "soup = BeautifulSoup(src, 'lxml')\n",
    "# Take a look\n",
    "print(soup.prettify()[:3000])"
   ]
  },
  {
   "cell_type": "markdown",
   "metadata": {},
   "source": [
    "La salida se parece bastante a la anterior, pero ahora está organizada en un objeto soup que nos permite recorrer la página más fácilmente."
   ]
  },
  {
   "cell_type": "markdown",
   "metadata": {},
   "source": [
    "# Paso 3: Buscar elementos HTML\n",
    "\n",
    "Beautiful Soup cuenta con varias funciones para encontrar componentes útiles en una página. Beautiful Soup permite encontrar elementos por:\n",
    "\n",
    "\n",
    "1. Etiquetas HTML\n",
    "2. Atributos HTML\n",
    "3. Selectores CSS\n",
    "\n",
    "\n",
    "Primero, busquemos etiquetas HTML.\n",
    "\n",
    "La función find_all busca en el árbol de Soup todos los elementos con una etiqueta HTML específica y los devuelve.\n",
    "\n",
    "¿Qué hace el siguiente ejemplo?\n"
   ]
  },
  {
   "cell_type": "code",
   "execution_count": 11,
   "metadata": {
    "execution": {
     "iopub.execute_input": "2025-03-23T22:53:23.726212Z",
     "iopub.status.busy": "2025-03-23T22:53:23.725837Z",
     "iopub.status.idle": "2025-03-23T22:53:23.733319Z",
     "shell.execute_reply": "2025-03-23T22:53:23.732010Z",
     "shell.execute_reply.started": "2025-03-23T22:53:23.726182Z"
    }
   },
   "outputs": [
    {
     "name": "stdout",
     "output_type": "stream",
     "text": [
      "[<a class=\"goog-logo-link\" href=\"https://translate.google.com\" target=\"_blank\"><img alt=\"Google Translate\" height=\"14\" src=\"https://www.gstatic.com/images/branding/googlelogo/1x/googlelogo_color_42x16dp.png\" style=\"padding-right: 3px;\" width=\"37\"/>Translate</a>, <a href=\"/default.asp\"><img alt=\"Illinois General Assembly\" border=\"0\" height=\"49\" src=\"/images/logo_sm.gif\" width=\"462\"/></a>, <a class=\"mainmenu\" href=\"/\">Home</a>, <a class=\"mainmenu\" href=\"/legislation/\" onblur=\"HM_f_PopDown('elMenu1')\" onfocus=\"HM_f_PopUp('elMenu1',event)\" onmouseout=\"HM_f_PopDown('elMenu1')\" onmouseover=\"HM_f_PopUp('elMenu1',event)\">Legislation &amp; Laws</a>, <a class=\"mainmenu\" href=\"/senate/\" onblur=\"HM_f_PopDown('elMenu3')\" onfocus=\"HM_f_PopUp('elMenu3',event)\" onmouseout=\"HM_f_PopDown('elMenu3')\" onmouseover=\"HM_f_PopUp('elMenu3',event)\">Senate</a>, <a class=\"mainmenu\" href=\"/house/\" onblur=\"HM_f_PopDown('elMenu2')\" onfocus=\"HM_f_PopUp('elMenu2',event)\" onmouseout=\"HM_f_PopDown('elMenu2')\" onmouseover=\"HM_f_PopUp('elMenu2',event)\">House</a>, <a class=\"mainmenu\" href=\"/mylegislation/\" onblur=\"HM_f_PopDown('elMenu4')\" onfocus=\"HM_f_PopUp('elMenu4',event)\" onmouseout=\"HM_f_PopDown('elMenu4')\" onmouseover=\"HM_f_PopUp('elMenu4',event)\">My Legislation</a>, <a class=\"mainmenu\" href=\"/sitemap.asp\">Site Map</a>, <a class=\"sidemenu\" href=\"/senate/default.asp\">  Members  </a>, <a class=\"sidemenu\" href=\"/senate/committees/default.asp\">  Committees  </a>, <a class=\"sidemenu\" href=\"/senate/schedules/default.asp\">  Schedules  </a>, <a class=\"sidemenu\" href=\"/senate/journals/default.asp\">  Journals  </a>, <a class=\"sidemenu\" href=\"/senate/transcripts/default.asp\">  Transcripts  </a>, <a class=\"sidemenu\" href=\"/senate/rules.asp\">  Rules  </a>, <a class=\"sidemenu\" href=\"/senateaudvid.asp\">  Live Audio/Video  </a>, <a href=\"104th_Senate_Leadership.pdf\">Leadership</a>, <a href=\"104th_Senate_Officers.pdf\">Officers</a>, <a href=\"104th_Senate_Seating_Chart.pdf\">Senate Seating Chart</a>, <a class=\"filetab\" href=\"javascript:Sort('LastName','',104);\" title=\"Sort by Senator\">Senator</a>, <a class=\"filetab\" href=\"javascript:Sort('DistrictNumber','',104);\" title=\"Sort by District\">District</a>, <a class=\"filetab\" href=\"javascript:Sort('Party','',104);\" title=\"Sort by Party\">Party</a>, <a class=\"notranslate\" href=\"/senate/Senator.asp?GA=104&amp;MemberID=3312\">Neil Anderson</a>, <a href=\"SenatorBills.asp?MemberID=3312\">Bills</a>, <a href=\"SenCommittees.asp?MemberID=3312\">Committees</a>, <a class=\"notranslate\" href=\"/senate/Senator.asp?GA=104&amp;MemberID=3316\">Omar Aquino</a>, <a href=\"SenatorBills.asp?MemberID=3316\">Bills</a>, <a href=\"SenCommittees.asp?MemberID=3316\">Committees</a>, <a class=\"notranslate\" href=\"/senate/Senator.asp?GA=104&amp;MemberID=3383\">Li Arellano, Jr.</a>, <a href=\"SenatorBills.asp?MemberID=3383\">Bills</a>, <a href=\"SenCommittees.asp?MemberID=3383\">Committees</a>, <a class=\"notranslate\" href=\"/senate/Senator.asp?GA=104&amp;MemberID=3413\">Chris Balkema</a>, <a href=\"SenatorBills.asp?MemberID=3413\">Bills</a>, <a href=\"SenCommittees.asp?MemberID=3413\">Committees</a>, <a class=\"notranslate\" href=\"/senate/Senator.asp?GA=104&amp;MemberID=3337\">Christopher Belt</a>, <a href=\"SenatorBills.asp?MemberID=3337\">Bills</a>, <a href=\"SenCommittees.asp?MemberID=3337\">Committees</a>, <a class=\"notranslate\" href=\"/senate/Senator.asp?GA=104&amp;MemberID=3386\">Terri Bryant</a>, <a href=\"SenatorBills.asp?MemberID=3386\">Bills</a>, <a href=\"SenCommittees.asp?MemberID=3386\">Committees</a>, <a class=\"notranslate\" href=\"/senate/Senator.asp?GA=104&amp;MemberID=3317\">Cristina Castro</a>, <a href=\"SenatorBills.asp?MemberID=3317\">Bills</a>, <a href=\"SenCommittees.asp?MemberID=3317\">Committees</a>, <a class=\"notranslate\" href=\"/senate/Senator.asp?GA=104&amp;MemberID=3403\">Javier L. Cervantes</a>, <a href=\"SenatorBills.asp?MemberID=3403\">Bills</a>, <a href=\"SenCommittees.asp?MemberID=3403\">Committees</a>, <a class=\"notranslate\" href=\"/senate/Senator.asp?GA=104&amp;MemberID=3410\">Andrew S. Chesney</a>, <a href=\"SenatorBills.asp?MemberID=3410\">Bills</a>, <a href=\"SenCommittees.asp?MemberID=3410\">Committees</a>, <a class=\"notranslate\" href=\"/senate/Senator.asp?GA=104&amp;MemberID=3443\">Lakesia Collins</a>, <a href=\"SenatorBills.asp?MemberID=3443\">Bills</a>]\n"
     ]
    }
   ],
   "source": [
    "# Find all elements with a certain tag\n",
    "a_tags = soup.find_all(\"a\")\n",
    "print(a_tags[:50])"
   ]
  },
  {
   "cell_type": "markdown",
   "metadata": {},
   "source": [
    "Dado que find_all() es el método más popular en la API de búsqueda de Beautiful Soup, puedes usar un atajo. Si tratas el objeto BeautifulSoup como si fuera una función, es lo mismo que llamar a find_all() en ese objeto.\n",
    "\n",
    "Estas dos líneas de código son equivalentes:\n"
   ]
  },
  {
   "cell_type": "code",
   "execution_count": 12,
   "metadata": {
    "execution": {
     "iopub.execute_input": "2025-03-23T22:54:27.241271Z",
     "iopub.status.busy": "2025-03-23T22:54:27.240862Z",
     "iopub.status.idle": "2025-03-23T22:54:27.248232Z",
     "shell.execute_reply": "2025-03-23T22:54:27.247310Z",
     "shell.execute_reply.started": "2025-03-23T22:54:27.241246Z"
    },
    "tags": []
   },
   "outputs": [
    {
     "name": "stdout",
     "output_type": "stream",
     "text": [
      "<a class=\"goog-logo-link\" href=\"https://translate.google.com\" target=\"_blank\"><img alt=\"Google Translate\" height=\"14\" src=\"https://www.gstatic.com/images/branding/googlelogo/1x/googlelogo_color_42x16dp.png\" style=\"padding-right: 3px;\" width=\"37\"/>Translate</a>\n",
      "<a class=\"goog-logo-link\" href=\"https://translate.google.com\" target=\"_blank\"><img alt=\"Google Translate\" height=\"14\" src=\"https://www.gstatic.com/images/branding/googlelogo/1x/googlelogo_color_42x16dp.png\" style=\"padding-right: 3px;\" width=\"37\"/>Translate</a>\n"
     ]
    }
   ],
   "source": [
    "a_tags = soup.find_all(\"a\")\n",
    "a_tags_alt = soup(\"a\")\n",
    "print(a_tags[0])\n",
    "print(a_tags_alt[0])"
   ]
  },
  {
   "cell_type": "markdown",
   "metadata": {},
   "source": [
    "¿Cuantos enlaces obtuvimos?"
   ]
  },
  {
   "cell_type": "code",
   "execution_count": 13,
   "metadata": {
    "execution": {
     "iopub.execute_input": "2025-03-23T22:55:34.598970Z",
     "iopub.status.busy": "2025-03-23T22:55:34.598643Z",
     "iopub.status.idle": "2025-03-23T22:55:34.603869Z",
     "shell.execute_reply": "2025-03-23T22:55:34.602703Z",
     "shell.execute_reply.started": "2025-03-23T22:55:34.598946Z"
    }
   },
   "outputs": [
    {
     "name": "stdout",
     "output_type": "stream",
     "text": [
      "213\n"
     ]
    }
   ],
   "source": [
    "print(len(a_tags))"
   ]
  },
  {
   "cell_type": "markdown",
   "metadata": {},
   "source": [
    "¡Eso es muchísimo! Muchos elementos de una página tendrán la misma etiqueta HTML. Por ejemplo, si buscas todo con la etiqueta \"a\", probablemente obtendrás más resultados, muchos de los cuales quizás no desees. Recuerda que la etiqueta \"a\" define un hipervínculo, por lo que normalmente encontrarás muchos en cualquier página.\n",
    "\n",
    "¿Qué sucedería si quisiéramos buscar etiquetas HTML con ciertos atributos, como clases CSS específicas?\n",
    "\n",
    "Podemos hacerlo añadiendo un argumento adicional a \"find_all\". En el siguiente ejemplo, buscamos todas las etiquetas \"a\" y luego las filtramos con \"class_=\"sidemenu\".\n"
   ]
  },
  {
   "cell_type": "code",
   "execution_count": 14,
   "metadata": {
    "execution": {
     "iopub.execute_input": "2025-03-23T22:57:33.678360Z",
     "iopub.status.busy": "2025-03-23T22:57:33.677999Z",
     "iopub.status.idle": "2025-03-23T22:57:33.687794Z",
     "shell.execute_reply": "2025-03-23T22:57:33.686806Z",
     "shell.execute_reply.started": "2025-03-23T22:57:33.678335Z"
    },
    "tags": []
   },
   "outputs": [
    {
     "data": {
      "text/plain": [
       "[<a class=\"sidemenu\" href=\"/senate/default.asp\">  Members  </a>,\n",
       " <a class=\"sidemenu\" href=\"/senate/committees/default.asp\">  Committees  </a>,\n",
       " <a class=\"sidemenu\" href=\"/senate/schedules/default.asp\">  Schedules  </a>,\n",
       " <a class=\"sidemenu\" href=\"/senate/journals/default.asp\">  Journals  </a>,\n",
       " <a class=\"sidemenu\" href=\"/senate/transcripts/default.asp\">  Transcripts  </a>]"
      ]
     },
     "execution_count": 14,
     "metadata": {},
     "output_type": "execute_result"
    }
   ],
   "source": [
    "# Get only the 'a' tags in 'sidemenu' class\n",
    "side_menus = soup(\"a\", class_=\"sidemenu\")\n",
    "side_menus[:5]"
   ]
  },
  {
   "cell_type": "markdown",
   "metadata": {},
   "source": [
    "Una forma más eficiente de buscar elementos en un sitio web es mediante un selector CSS. Para ello, debemos usar un método diferente llamado select(). Simplemente pase una cadena a .select() para obtener todos los elementos con esa cadena como un selector CSS válido.\n",
    "\n",
    "En el ejemplo anterior, podemos usar \"a.sidemenu\" como selector CSS, que devuelve todas las etiquetas a con la clase sidemenu.\n"
   ]
  },
  {
   "cell_type": "code",
   "execution_count": 15,
   "metadata": {
    "execution": {
     "iopub.execute_input": "2025-03-23T22:58:27.741689Z",
     "iopub.status.busy": "2025-03-23T22:58:27.741405Z",
     "iopub.status.idle": "2025-03-23T22:58:27.751310Z",
     "shell.execute_reply": "2025-03-23T22:58:27.750369Z",
     "shell.execute_reply.started": "2025-03-23T22:58:27.741667Z"
    },
    "tags": []
   },
   "outputs": [
    {
     "data": {
      "text/plain": [
       "[<a class=\"sidemenu\" href=\"/senate/default.asp\">  Members  </a>,\n",
       " <a class=\"sidemenu\" href=\"/senate/committees/default.asp\">  Committees  </a>,\n",
       " <a class=\"sidemenu\" href=\"/senate/schedules/default.asp\">  Schedules  </a>,\n",
       " <a class=\"sidemenu\" href=\"/senate/journals/default.asp\">  Journals  </a>,\n",
       " <a class=\"sidemenu\" href=\"/senate/transcripts/default.asp\">  Transcripts  </a>]"
      ]
     },
     "execution_count": 15,
     "metadata": {},
     "output_type": "execute_result"
    }
   ],
   "source": [
    "# Get elements with \"a.sidemenu\" CSS Selector.\n",
    "selected = soup.select(\"a.sidemenu\")\n",
    "selected[:5]"
   ]
  },
  {
   "cell_type": "markdown",
   "metadata": {},
   "source": [
    "# Desafío: Encuentra todo\n",
    "\n",
    "Usa BeautifulSoup para encontrar todos los a elementos con la clase mainmenu.\n"
   ]
  },
  {
   "cell_type": "code",
   "execution_count": 16,
   "metadata": {
    "execution": {
     "iopub.execute_input": "2025-03-23T23:01:10.220292Z",
     "iopub.status.busy": "2025-03-23T23:01:10.219951Z",
     "iopub.status.idle": "2025-03-23T23:01:10.229815Z",
     "shell.execute_reply": "2025-03-23T23:01:10.228581Z",
     "shell.execute_reply.started": "2025-03-23T23:01:10.220271Z"
    }
   },
   "outputs": [
    {
     "data": {
      "text/plain": [
       "[<a class=\"mainmenu\" href=\"/\">Home</a>,\n",
       " <a class=\"mainmenu\" href=\"/legislation/\" onblur=\"HM_f_PopDown('elMenu1')\" onfocus=\"HM_f_PopUp('elMenu1',event)\" onmouseout=\"HM_f_PopDown('elMenu1')\" onmouseover=\"HM_f_PopUp('elMenu1',event)\">Legislation &amp; Laws</a>,\n",
       " <a class=\"mainmenu\" href=\"/senate/\" onblur=\"HM_f_PopDown('elMenu3')\" onfocus=\"HM_f_PopUp('elMenu3',event)\" onmouseout=\"HM_f_PopDown('elMenu3')\" onmouseover=\"HM_f_PopUp('elMenu3',event)\">Senate</a>,\n",
       " <a class=\"mainmenu\" href=\"/house/\" onblur=\"HM_f_PopDown('elMenu2')\" onfocus=\"HM_f_PopUp('elMenu2',event)\" onmouseout=\"HM_f_PopDown('elMenu2')\" onmouseover=\"HM_f_PopUp('elMenu2',event)\">House</a>,\n",
       " <a class=\"mainmenu\" href=\"/mylegislation/\" onblur=\"HM_f_PopDown('elMenu4')\" onfocus=\"HM_f_PopUp('elMenu4',event)\" onmouseout=\"HM_f_PopDown('elMenu4')\" onmouseover=\"HM_f_PopUp('elMenu4',event)\">My Legislation</a>,\n",
       " <a class=\"mainmenu\" href=\"/sitemap.asp\">Site Map</a>]"
      ]
     },
     "execution_count": 16,
     "metadata": {},
     "output_type": "execute_result"
    }
   ],
   "source": [
    "# YOUR CODE HERE\n",
    "soup.select(\"a.mainmenu\")"
   ]
  },
  {
   "cell_type": "markdown",
   "metadata": {},
   "source": [
    "# Paso 4: Obtener los atributos y el texto de los elementos\n",
    "\n",
    "Una vez identificados los elementos, necesitamos la información de acceso de cada uno. Normalmente, esto implica dos cosas:\n",
    "\n",
    "1. Texto\n",
    "2. Atributos\n",
    "\n",
    "\n",
    "Obtener el texto dentro de un elemento es sencillo. Solo tenemos que usar el miembro de texto de un objeto de etiqueta:\n"
   ]
  },
  {
   "cell_type": "code",
   "execution_count": 18,
   "metadata": {
    "execution": {
     "iopub.execute_input": "2025-03-23T23:05:45.938667Z",
     "iopub.status.busy": "2025-03-23T23:05:45.938396Z",
     "iopub.status.idle": "2025-03-23T23:05:45.947572Z",
     "shell.execute_reply": "2025-03-23T23:05:45.946606Z",
     "shell.execute_reply.started": "2025-03-23T23:05:45.938647Z"
    },
    "tags": []
   },
   "outputs": [
    {
     "name": "stdout",
     "output_type": "stream",
     "text": [
      "<a class=\"sidemenu\" href=\"/senate/default.asp\">  Members  </a>\n",
      "Class:  <class 'bs4.element.Tag'>\n"
     ]
    }
   ],
   "source": [
    "# Get all sidemenu links as a list\n",
    "side_menu_links = soup.select(\"a.sidemenu\")\n",
    "\n",
    "# Examine the first link\n",
    "first_link = side_menu_links[0]\n",
    "print(first_link)\n",
    "\n",
    "# What class is this variable?\n",
    "print('Class: ', type(first_link))"
   ]
  },
  {
   "cell_type": "markdown",
   "metadata": {},
   "source": [
    "¡Es una etiqueta de Beautiful Soup! Esto significa que tiene un miembro de texto:"
   ]
  },
  {
   "cell_type": "code",
   "execution_count": 19,
   "metadata": {
    "execution": {
     "iopub.execute_input": "2025-03-23T23:06:37.225635Z",
     "iopub.status.busy": "2025-03-23T23:06:37.225337Z",
     "iopub.status.idle": "2025-03-23T23:06:37.229611Z",
     "shell.execute_reply": "2025-03-23T23:06:37.228884Z",
     "shell.execute_reply.started": "2025-03-23T23:06:37.225613Z"
    },
    "tags": []
   },
   "outputs": [
    {
     "name": "stdout",
     "output_type": "stream",
     "text": [
      "  Members  \n"
     ]
    }
   ],
   "source": [
    "print(first_link.text)"
   ]
  },
  {
   "cell_type": "markdown",
   "metadata": {},
   "source": [
    "A veces necesitamos el valor de ciertos atributos. Esto es especialmente relevante para etiquetas o enlaces, donde el atributo href indica adónde lleva el enlace.\n",
    "\n",
    "**Consejo:** Puedes acceder a los atributos de una etiqueta tratándola como un diccionario:\n"
   ]
  },
  {
   "cell_type": "code",
   "execution_count": 20,
   "metadata": {
    "execution": {
     "iopub.execute_input": "2025-03-23T23:07:49.408614Z",
     "iopub.status.busy": "2025-03-23T23:07:49.408316Z",
     "iopub.status.idle": "2025-03-23T23:07:49.413549Z",
     "shell.execute_reply": "2025-03-23T23:07:49.412283Z",
     "shell.execute_reply.started": "2025-03-23T23:07:49.408592Z"
    },
    "tags": []
   },
   "outputs": [
    {
     "name": "stdout",
     "output_type": "stream",
     "text": [
      "/senate/default.asp\n"
     ]
    }
   ],
   "source": [
    "print(first_link['href'])"
   ]
  },
  {
   "cell_type": "markdown",
   "metadata": {},
   "source": [
    "# Desafío: Extraer atributos específicos\n",
    "\n",
    "Extraer todos los atributos href para cada uno de los mainmenu URL.\n"
   ]
  },
  {
   "cell_type": "code",
   "execution_count": 21,
   "metadata": {
    "execution": {
     "iopub.execute_input": "2025-03-23T23:09:24.368477Z",
     "iopub.status.busy": "2025-03-23T23:09:24.368178Z",
     "iopub.status.idle": "2025-03-23T23:09:24.377284Z",
     "shell.execute_reply": "2025-03-23T23:09:24.376466Z",
     "shell.execute_reply.started": "2025-03-23T23:09:24.368454Z"
    }
   },
   "outputs": [
    {
     "data": {
      "text/plain": [
       "['/',\n",
       " '/legislation/',\n",
       " '/senate/',\n",
       " '/house/',\n",
       " '/mylegislation/',\n",
       " '/sitemap.asp']"
      ]
     },
     "execution_count": 21,
     "metadata": {},
     "output_type": "execute_result"
    }
   ],
   "source": [
    "# YOUR CODE HERE\n",
    "[link['href'] for link in soup.select(\"a.mainmenu\")]"
   ]
  },
  {
   "cell_type": "markdown",
   "metadata": {},
   "source": [
    "# Análisis de la Asamblea General de Illinois\n",
    "\n",
    "Aunque parezca increíble, estas son las herramientas fundamentales para analizar un sitio web. Una vez que dediques más tiempo a familiarizarte con HTML y CSS, solo tendrás que comprender la estructura de un sitio web específico y aplicar inteligentemente las herramientas de Beautiful Soup y Python.\n",
    "\n",
    "Apliquemos estas habilidades para analizar la 98.ª Asamblea General de Illinois.\n",
    "\n",
    "En concreto, nuestro objetivo es analizar la información de cada senador, incluyendo su nombre, distrito y partido.\n"
   ]
  },
  {
   "cell_type": "markdown",
   "metadata": {},
   "source": [
    "# Análisis de la página web\n",
    "\n",
    "Analicemos y analicemos la página web con las herramientas que aprendimos en la sección anterior.\n"
   ]
  },
  {
   "cell_type": "code",
   "execution_count": 24,
   "metadata": {
    "execution": {
     "iopub.execute_input": "2025-03-23T23:26:55.437368Z",
     "iopub.status.busy": "2025-03-23T23:26:55.436982Z",
     "iopub.status.idle": "2025-03-23T23:26:55.922237Z",
     "shell.execute_reply": "2025-03-23T23:26:55.921486Z",
     "shell.execute_reply.started": "2025-03-23T23:26:55.437342Z"
    },
    "tags": []
   },
   "outputs": [],
   "source": [
    "# Make a GET request\n",
    "req = requests.get('https://www.ilga.gov/senate/default.asp?GA=98')\n",
    "# Read the content of the server’s response\n",
    "src = req.text\n",
    "# Soup it\n",
    "soup = BeautifulSoup(src, \"lxml\")"
   ]
  },
  {
   "cell_type": "markdown",
   "metadata": {},
   "source": [
    "# Buscar los elementos de la tabla\n",
    "\n",
    "Nuestro objetivo es obtener los elementos de la tabla en la página web. Recuerde: las filas se identifican con la etiqueta tr. Usemos find_all para obtener estos elementos.\n"
   ]
  },
  {
   "cell_type": "code",
   "execution_count": 25,
   "metadata": {
    "execution": {
     "iopub.execute_input": "2025-03-23T23:28:01.346781Z",
     "iopub.status.busy": "2025-03-23T23:28:01.346500Z",
     "iopub.status.idle": "2025-03-23T23:28:01.352405Z",
     "shell.execute_reply": "2025-03-23T23:28:01.351544Z",
     "shell.execute_reply.started": "2025-03-23T23:28:01.346759Z"
    }
   },
   "outputs": [
    {
     "data": {
      "text/plain": [
       "73"
      ]
     },
     "execution_count": 25,
     "metadata": {},
     "output_type": "execute_result"
    }
   ],
   "source": [
    "# Get all table row elements\n",
    "rows = soup.find_all(\"tr\")\n",
    "len(rows)"
   ]
  },
  {
   "cell_type": "markdown",
   "metadata": {},
   "source": [
    "**Advertencia:** Recuerda: find_all obtiene todos los elementos con la etiqueta tr. Solo necesitamos algunos. Si usamos la función \"Inspeccionar\" en Google Chrome y observamos con atención, podemos usar selectores CSS para obtener solo las filas que nos interesan. En concreto, queremos las filas internas de la tabla:"
   ]
  },
  {
   "cell_type": "code",
   "execution_count": 26,
   "metadata": {
    "execution": {
     "iopub.execute_input": "2025-03-23T23:30:02.269301Z",
     "iopub.status.busy": "2025-03-23T23:30:02.268980Z",
     "iopub.status.idle": "2025-03-23T23:30:02.281159Z",
     "shell.execute_reply": "2025-03-23T23:30:02.280349Z",
     "shell.execute_reply.started": "2025-03-23T23:30:02.269280Z"
    }
   },
   "outputs": [
    {
     "name": "stdout",
     "output_type": "stream",
     "text": [
      "<tr><td colspan=\"5\">\n",
      "<span class=\"heading\">Illinois State Senators</span>\n",
      "<span class=\"italics\">  98th  General Assembly</span><br/>\n",
      "<!-- 3/2/09 temp comment out until fixed for GA specific-->\n",
      "<!-- add 97th ga currently no info -->\n",
      "<a href=\"98GA_Senate_Leadership.pdf\">Leadership</a> <a href=\"98th_Senate_Officers.pdf\">Officers</a> <a href=\"98GA_Senate_Seating_Chart.pdf\">Senate Seating Chart</a>  <span class=\"content\"><b>Democrats:</b> 40   <b>Republicans:</b> 19</span><br/>\n",
      "</td></tr> \n",
      "\n",
      "<tr>\n",
      "<td class=\"header\" width=\"45%\"><a class=\"filetab\" href=\"javascript:Sort('LastName','',98);\" title=\"Sort by Senator\">Senator</a></td>\n",
      "<td align=\"center\" class=\"header\" width=\"15%\">Bills</td>\n",
      "<td align=\"center\" class=\"header\" width=\"10%\">Committees</td>\n",
      "<td align=\"center\" class=\"header\" width=\"15%\"><a class=\"filetab\" href=\"javascript:Sort('DistrictNumber','',98);\" title=\"Sort by District\">District</a></td>\n",
      "<td align=\"center\" class=\"header\" width=\"15%\"><a class=\"filetab\" href=\"javascript:Sort('Party','',98);\" title=\"Sort by Party\">Party</a></td>\n",
      "</tr> \n",
      "\n",
      "<tr><td bgcolor=\"white\" class=\"detail\" width=\"40%\"><a class=\"notranslate\" href=\"/senate/Senator.asp?GA=98&amp;MemberID=1911\">Pamela J. Althoff</a></td><td align=\"center\" bgcolor=\"white\" class=\"detail\" width=\"15%\"><a href=\"SenatorBills.asp?GA=98&amp;MemberID=1911\">Bills</a></td><td align=\"center\" bgcolor=\"white\" class=\"detail\" width=\"15%\"><a href=\"SenCommittees.asp?GA=98&amp;MemberID=1911\">Committees</a></td><td align=\"center\" bgcolor=\"white\" class=\"detail\" width=\"15%\">32</td><td align=\"center\" bgcolor=\"white\" class=\"detail\" width=\"15%\">R</td></tr> \n",
      "\n",
      "<tr><td bgcolor=\"EBEBEB\" class=\"detail\" width=\"40%\"><a class=\"notranslate\" href=\"/senate/Senator.asp?GA=98&amp;MemberID=2018\">Jason A. Barickman</a></td><td align=\"center\" bgcolor=\"EBEBEB\" class=\"detail\" width=\"15%\"><a href=\"SenatorBills.asp?GA=98&amp;MemberID=2018\">Bills</a></td><td align=\"center\" bgcolor=\"EBEBEB\" class=\"detail\" width=\"15%\"><a href=\"SenCommittees.asp?GA=98&amp;MemberID=2018\">Committees</a></td><td align=\"center\" bgcolor=\"EBEBEB\" class=\"detail\" width=\"15%\">53</td><td align=\"center\" bgcolor=\"EBEBEB\" class=\"detail\" width=\"15%\">R</td></tr> \n",
      "\n",
      "<tr><td bgcolor=\"white\" class=\"detail\" width=\"40%\"><a class=\"notranslate\" href=\"/senate/Senator.asp?GA=98&amp;MemberID=2272\">Scott M Bennett</a></td><td align=\"center\" bgcolor=\"white\" class=\"detail\" width=\"15%\"><a href=\"SenatorBills.asp?GA=98&amp;MemberID=2272\">Bills</a></td><td align=\"center\" bgcolor=\"white\" class=\"detail\" width=\"15%\"><a href=\"SenCommittees.asp?GA=98&amp;MemberID=2272\">Committees</a></td><td align=\"center\" bgcolor=\"white\" class=\"detail\" width=\"15%\">52</td><td align=\"center\" bgcolor=\"white\" class=\"detail\" width=\"15%\">D</td></tr> \n",
      "\n"
     ]
    }
   ],
   "source": [
    "# Returns every ‘tr tr tr’ css selector in the page\n",
    "rows = soup.select('tr tr tr')\n",
    "\n",
    "for row in rows[:5]:\n",
    "    print(row, '\\n')"
   ]
  },
  {
   "cell_type": "markdown",
   "metadata": {},
   "source": [
    "Parece que queremos todo lo que queda después de las dos primeras filas. Empecemos con una sola fila y construyamos nuestro bucle a partir de ahí."
   ]
  },
  {
   "cell_type": "code",
   "execution_count": 27,
   "metadata": {
    "execution": {
     "iopub.execute_input": "2025-03-23T23:30:39.279176Z",
     "iopub.status.busy": "2025-03-23T23:30:39.278835Z",
     "iopub.status.idle": "2025-03-23T23:30:39.284305Z",
     "shell.execute_reply": "2025-03-23T23:30:39.283101Z",
     "shell.execute_reply.started": "2025-03-23T23:30:39.279150Z"
    }
   },
   "outputs": [
    {
     "name": "stdout",
     "output_type": "stream",
     "text": [
      "<tr>\n",
      " <td bgcolor=\"white\" class=\"detail\" width=\"40%\">\n",
      "  <a class=\"notranslate\" href=\"/senate/Senator.asp?GA=98&amp;MemberID=1911\">\n",
      "   Pamela J. Althoff\n",
      "  </a>\n",
      " </td>\n",
      " <td align=\"center\" bgcolor=\"white\" class=\"detail\" width=\"15%\">\n",
      "  <a href=\"SenatorBills.asp?GA=98&amp;MemberID=1911\">\n",
      "   Bills\n",
      "  </a>\n",
      " </td>\n",
      " <td align=\"center\" bgcolor=\"white\" class=\"detail\" width=\"15%\">\n",
      "  <a href=\"SenCommittees.asp?GA=98&amp;MemberID=1911\">\n",
      "   Committees\n",
      "  </a>\n",
      " </td>\n",
      " <td align=\"center\" bgcolor=\"white\" class=\"detail\" width=\"15%\">\n",
      "  32\n",
      " </td>\n",
      " <td align=\"center\" bgcolor=\"white\" class=\"detail\" width=\"15%\">\n",
      "  R\n",
      " </td>\n",
      "</tr>\n",
      "\n"
     ]
    }
   ],
   "source": [
    "example_row = rows[2]\n",
    "print(example_row.prettify())"
   ]
  },
  {
   "cell_type": "markdown",
   "metadata": {},
   "source": [
    "Desglosemos esta fila en sus celdas/columnas mediante el método select con selectores CSS. Si analizamos el HTML con atención, hay un par de maneras de hacerlo.\n",
    "\n",
    "* Podríamos identificar las celdas por su etiqueta td.\n",
    "* Podríamos usar el nombre de clase .detail.\n",
    "* Podríamos combinar ambos y usar el selector td.detail."
   ]
  },
  {
   "cell_type": "code",
   "execution_count": 28,
   "metadata": {
    "execution": {
     "iopub.execute_input": "2025-03-23T23:32:04.576339Z",
     "iopub.status.busy": "2025-03-23T23:32:04.575975Z",
     "iopub.status.idle": "2025-03-23T23:32:04.586695Z",
     "shell.execute_reply": "2025-03-23T23:32:04.585698Z",
     "shell.execute_reply.started": "2025-03-23T23:32:04.576310Z"
    }
   },
   "outputs": [
    {
     "name": "stdout",
     "output_type": "stream",
     "text": [
      "<td bgcolor=\"white\" class=\"detail\" width=\"40%\"><a class=\"notranslate\" href=\"/senate/Senator.asp?GA=98&amp;MemberID=1911\">Pamela J. Althoff</a></td>\n",
      "<td align=\"center\" bgcolor=\"white\" class=\"detail\" width=\"15%\"><a href=\"SenatorBills.asp?GA=98&amp;MemberID=1911\">Bills</a></td>\n",
      "<td align=\"center\" bgcolor=\"white\" class=\"detail\" width=\"15%\"><a href=\"SenCommittees.asp?GA=98&amp;MemberID=1911\">Committees</a></td>\n",
      "<td align=\"center\" bgcolor=\"white\" class=\"detail\" width=\"15%\">32</td>\n",
      "<td align=\"center\" bgcolor=\"white\" class=\"detail\" width=\"15%\">R</td>\n",
      "\n",
      "<td bgcolor=\"white\" class=\"detail\" width=\"40%\"><a class=\"notranslate\" href=\"/senate/Senator.asp?GA=98&amp;MemberID=1911\">Pamela J. Althoff</a></td>\n",
      "<td align=\"center\" bgcolor=\"white\" class=\"detail\" width=\"15%\"><a href=\"SenatorBills.asp?GA=98&amp;MemberID=1911\">Bills</a></td>\n",
      "<td align=\"center\" bgcolor=\"white\" class=\"detail\" width=\"15%\"><a href=\"SenCommittees.asp?GA=98&amp;MemberID=1911\">Committees</a></td>\n",
      "<td align=\"center\" bgcolor=\"white\" class=\"detail\" width=\"15%\">32</td>\n",
      "<td align=\"center\" bgcolor=\"white\" class=\"detail\" width=\"15%\">R</td>\n",
      "\n",
      "<td bgcolor=\"white\" class=\"detail\" width=\"40%\"><a class=\"notranslate\" href=\"/senate/Senator.asp?GA=98&amp;MemberID=1911\">Pamela J. Althoff</a></td>\n",
      "<td align=\"center\" bgcolor=\"white\" class=\"detail\" width=\"15%\"><a href=\"SenatorBills.asp?GA=98&amp;MemberID=1911\">Bills</a></td>\n",
      "<td align=\"center\" bgcolor=\"white\" class=\"detail\" width=\"15%\"><a href=\"SenCommittees.asp?GA=98&amp;MemberID=1911\">Committees</a></td>\n",
      "<td align=\"center\" bgcolor=\"white\" class=\"detail\" width=\"15%\">32</td>\n",
      "<td align=\"center\" bgcolor=\"white\" class=\"detail\" width=\"15%\">R</td>\n",
      "\n"
     ]
    }
   ],
   "source": [
    "for cell in example_row.select('td'):\n",
    "    print(cell)\n",
    "print()\n",
    "\n",
    "for cell in example_row.select('.detail'):\n",
    "    print(cell)\n",
    "print()\n",
    "\n",
    "for cell in example_row.select('td.detail'):\n",
    "    print(cell)\n",
    "print()"
   ]
  },
  {
   "cell_type": "markdown",
   "metadata": {},
   "source": [
    "Podemos confirmar que todos son iguales."
   ]
  },
  {
   "cell_type": "code",
   "execution_count": 31,
   "metadata": {
    "execution": {
     "iopub.execute_input": "2025-03-23T23:34:08.654559Z",
     "iopub.status.busy": "2025-03-23T23:34:08.654251Z",
     "iopub.status.idle": "2025-03-23T23:34:08.659010Z",
     "shell.execute_reply": "2025-03-23T23:34:08.658129Z",
     "shell.execute_reply.started": "2025-03-23T23:34:08.654535Z"
    },
    "tags": []
   },
   "outputs": [],
   "source": [
    "assert example_row.select('td') == example_row.select('.detail') == example_row.select('td.detail')"
   ]
  },
  {
   "cell_type": "markdown",
   "metadata": {},
   "source": [
    "Utilicemos el selector td.detail para ser lo más específicos posible."
   ]
  },
  {
   "cell_type": "code",
   "execution_count": 33,
   "metadata": {
    "execution": {
     "iopub.execute_input": "2025-03-23T23:36:15.076950Z",
     "iopub.status.busy": "2025-03-23T23:36:15.076640Z",
     "iopub.status.idle": "2025-03-23T23:36:15.083066Z",
     "shell.execute_reply": "2025-03-23T23:36:15.081943Z",
     "shell.execute_reply.started": "2025-03-23T23:36:15.076917Z"
    }
   },
   "outputs": [
    {
     "data": {
      "text/plain": [
       "[<td bgcolor=\"white\" class=\"detail\" width=\"40%\"><a class=\"notranslate\" href=\"/senate/Senator.asp?GA=98&amp;MemberID=1911\">Pamela J. Althoff</a></td>,\n",
       " <td align=\"center\" bgcolor=\"white\" class=\"detail\" width=\"15%\"><a href=\"SenatorBills.asp?GA=98&amp;MemberID=1911\">Bills</a></td>,\n",
       " <td align=\"center\" bgcolor=\"white\" class=\"detail\" width=\"15%\"><a href=\"SenCommittees.asp?GA=98&amp;MemberID=1911\">Committees</a></td>,\n",
       " <td align=\"center\" bgcolor=\"white\" class=\"detail\" width=\"15%\">32</td>,\n",
       " <td align=\"center\" bgcolor=\"white\" class=\"detail\" width=\"15%\">R</td>]"
      ]
     },
     "execution_count": 33,
     "metadata": {},
     "output_type": "execute_result"
    }
   ],
   "source": [
    "# Select only those 'td' tags with class 'detail' \n",
    "detail_cells = example_row.select('td.detail')\n",
    "detail_cells"
   ]
  },
  {
   "cell_type": "markdown",
   "metadata": {},
   "source": [
    "La mayoría de las veces, nos interesa el texto real de un sitio web, no sus etiquetas. Recordemos que para obtener el texto de un elemento HTML, usamos el miembro de texto:"
   ]
  },
  {
   "cell_type": "code",
   "execution_count": 34,
   "metadata": {
    "execution": {
     "iopub.execute_input": "2025-03-23T23:36:51.221487Z",
     "iopub.status.busy": "2025-03-23T23:36:51.221189Z",
     "iopub.status.idle": "2025-03-23T23:36:51.226176Z",
     "shell.execute_reply": "2025-03-23T23:36:51.225059Z",
     "shell.execute_reply.started": "2025-03-23T23:36:51.221464Z"
    }
   },
   "outputs": [
    {
     "name": "stdout",
     "output_type": "stream",
     "text": [
      "['Pamela J. Althoff', 'Bills', 'Committees', '32', 'R']\n"
     ]
    }
   ],
   "source": [
    "# Keep only the text in each of those cells\n",
    "row_data = [cell.text for cell in detail_cells]\n",
    "\n",
    "print(row_data)"
   ]
  },
  {
   "cell_type": "markdown",
   "metadata": {},
   "source": [
    "¡Se ve bien! Ahora solo necesitamos usar nuestros conocimientos básicos de Python para obtener los elementos de esta lista que necesitamos. Recuerda: queremos el nombre del senador, su distrito y su partido."
   ]
  },
  {
   "cell_type": "code",
   "execution_count": 35,
   "metadata": {
    "execution": {
     "iopub.execute_input": "2025-03-23T23:38:22.492423Z",
     "iopub.status.busy": "2025-03-23T23:38:22.492093Z",
     "iopub.status.idle": "2025-03-23T23:38:22.498254Z",
     "shell.execute_reply": "2025-03-23T23:38:22.497378Z",
     "shell.execute_reply.started": "2025-03-23T23:38:22.492396Z"
    }
   },
   "outputs": [
    {
     "name": "stdout",
     "output_type": "stream",
     "text": [
      "Pamela J. Althoff\n",
      "32\n",
      "R\n"
     ]
    }
   ],
   "source": [
    "print(row_data[0]) # Name\n",
    "print(row_data[3]) # District\n",
    "print(row_data[4]) # Party"
   ]
  },
  {
   "cell_type": "markdown",
   "metadata": {},
   "source": [
    "# Eliminando filas basura \n",
    "\n",
    "Vimos al principio que no todas las filas que obtuvimos corresponden a un senador. Tendremos que hacer limpieza antes de continuar. Vean algunos ejemplos:\n"
   ]
  },
  {
   "cell_type": "code",
   "execution_count": 36,
   "metadata": {
    "execution": {
     "iopub.execute_input": "2025-03-23T23:39:06.158838Z",
     "iopub.status.busy": "2025-03-23T23:39:06.158554Z",
     "iopub.status.idle": "2025-03-23T23:39:06.165844Z",
     "shell.execute_reply": "2025-03-23T23:39:06.164729Z",
     "shell.execute_reply.started": "2025-03-23T23:39:06.158815Z"
    }
   },
   "outputs": [
    {
     "name": "stdout",
     "output_type": "stream",
     "text": [
      "Row 0:\n",
      " <tr><td colspan=\"5\">\n",
      "<span class=\"heading\">Illinois State Senators</span>\n",
      "<span class=\"italics\">  98th  General Assembly</span><br/>\n",
      "<!-- 3/2/09 temp comment out until fixed for GA specific-->\n",
      "<!-- add 97th ga currently no info -->\n",
      "<a href=\"98GA_Senate_Leadership.pdf\">Leadership</a> <a href=\"98th_Senate_Officers.pdf\">Officers</a> <a href=\"98GA_Senate_Seating_Chart.pdf\">Senate Seating Chart</a>  <span class=\"content\"><b>Democrats:</b> 40   <b>Republicans:</b> 19</span><br/>\n",
      "</td></tr> \n",
      "\n",
      "Row 1:\n",
      " <tr>\n",
      "<td class=\"header\" width=\"45%\"><a class=\"filetab\" href=\"javascript:Sort('LastName','',98);\" title=\"Sort by Senator\">Senator</a></td>\n",
      "<td align=\"center\" class=\"header\" width=\"15%\">Bills</td>\n",
      "<td align=\"center\" class=\"header\" width=\"10%\">Committees</td>\n",
      "<td align=\"center\" class=\"header\" width=\"15%\"><a class=\"filetab\" href=\"javascript:Sort('DistrictNumber','',98);\" title=\"Sort by District\">District</a></td>\n",
      "<td align=\"center\" class=\"header\" width=\"15%\"><a class=\"filetab\" href=\"javascript:Sort('Party','',98);\" title=\"Sort by Party\">Party</a></td>\n",
      "</tr> \n",
      "\n",
      "Last Row:\n",
      " <tr>\n",
      "<td align=\"left\" class=\"footer\" width=\"107\">  <img alt=\"Legislative Information System logo\" height=\"45\" src=\"/images/lislogo.jpg\" width=\"100\"/></td>\n",
      "<td align=\"\" class=\"footer\" valign=\"top\" width=\"100%\">This site is maintained for the Illinois General Assembly \n",
      "by the<br/>Legislative Information System, 705 Stratton Building, Springfield, Illinois 62706<br/>\n",
      "<a class=\"links\" href=\"mailto:webmaster@ilga.gov?subject=Email from ILGA Web\" style=\"font-size:8px\">\n",
      "      Contact ILGA Webmaster</a>\n",
      "</td>\n",
      "</tr>\n"
     ]
    }
   ],
   "source": [
    "print('Row 0:\\n', rows[0], '\\n')\n",
    "print('Row 1:\\n', rows[1], '\\n')\n",
    "print('Last Row:\\n', rows[-1])"
   ]
  },
  {
   "cell_type": "markdown",
   "metadata": {},
   "source": [
    "Al escribir nuestro bucle for, queremos que solo se aplique a las filas relevantes. Por lo tanto, debemos filtrar las filas irrelevantes. Para ello, comparamos algunas de estas filas con las que necesitamos, observamos sus diferencias y luego formulamos esto en una condición.\n",
    "\n",
    "Como puedes imaginar, hay muchas maneras de hacerlo, y esto dependerá del sitio web. Aquí te mostraremos algunas para que te hagas una idea de cómo hacerlo.\n"
   ]
  },
  {
   "cell_type": "code",
   "execution_count": 37,
   "metadata": {
    "execution": {
     "iopub.execute_input": "2025-03-23T23:39:45.873516Z",
     "iopub.status.busy": "2025-03-23T23:39:45.873214Z",
     "iopub.status.idle": "2025-03-23T23:39:45.879023Z",
     "shell.execute_reply": "2025-03-23T23:39:45.877937Z",
     "shell.execute_reply.started": "2025-03-23T23:39:45.873492Z"
    }
   },
   "outputs": [
    {
     "name": "stdout",
     "output_type": "stream",
     "text": [
      "1\n",
      "11\n",
      "5\n",
      "5\n"
     ]
    }
   ],
   "source": [
    "# Bad rows\n",
    "print(len(rows[0]))\n",
    "print(len(rows[1]))\n",
    "\n",
    "# Good rows\n",
    "print(len(rows[2]))\n",
    "print(len(rows[3]))"
   ]
  },
  {
   "cell_type": "markdown",
   "metadata": {},
   "source": [
    "Quizás las buenas filas tengan una longitud de 5. Comprobémoslo:"
   ]
  },
  {
   "cell_type": "code",
   "execution_count": 38,
   "metadata": {
    "execution": {
     "iopub.execute_input": "2025-03-23T23:40:28.641368Z",
     "iopub.status.busy": "2025-03-23T23:40:28.640971Z",
     "iopub.status.idle": "2025-03-23T23:40:28.647412Z",
     "shell.execute_reply": "2025-03-23T23:40:28.646352Z",
     "shell.execute_reply.started": "2025-03-23T23:40:28.641341Z"
    }
   },
   "outputs": [
    {
     "name": "stdout",
     "output_type": "stream",
     "text": [
      "<tr><td bgcolor=\"white\" class=\"detail\" width=\"40%\"><a class=\"notranslate\" href=\"/senate/Senator.asp?GA=98&amp;MemberID=1911\">Pamela J. Althoff</a></td><td align=\"center\" bgcolor=\"white\" class=\"detail\" width=\"15%\"><a href=\"SenatorBills.asp?GA=98&amp;MemberID=1911\">Bills</a></td><td align=\"center\" bgcolor=\"white\" class=\"detail\" width=\"15%\"><a href=\"SenCommittees.asp?GA=98&amp;MemberID=1911\">Committees</a></td><td align=\"center\" bgcolor=\"white\" class=\"detail\" width=\"15%\">32</td><td align=\"center\" bgcolor=\"white\" class=\"detail\" width=\"15%\">R</td></tr> \n",
      "\n",
      "<tr><td bgcolor=\"white\" class=\"detail\" width=\"40%\"><a class=\"notranslate\" href=\"/senate/Senator.asp?GA=98&amp;MemberID=2035\">Patricia Van Pelt</a></td><td align=\"center\" bgcolor=\"white\" class=\"detail\" width=\"15%\"><a href=\"SenatorBills.asp?GA=98&amp;MemberID=2035\">Bills</a></td><td align=\"center\" bgcolor=\"white\" class=\"detail\" width=\"15%\"><a href=\"SenCommittees.asp?GA=98&amp;MemberID=2035\">Committees</a></td><td align=\"center\" bgcolor=\"white\" class=\"detail\" width=\"15%\">5</td><td align=\"center\" bgcolor=\"white\" class=\"detail\" width=\"15%\">D</td></tr> \n",
      "\n",
      "<tr>\n",
      "<td align=\"left\" class=\"footer\" width=\"107\">  <img alt=\"Legislative Information System logo\" height=\"45\" src=\"/images/lislogo.jpg\" width=\"100\"/></td>\n",
      "<td align=\"\" class=\"footer\" valign=\"top\" width=\"100%\">This site is maintained for the Illinois General Assembly \n",
      "by the<br/>Legislative Information System, 705 Stratton Building, Springfield, Illinois 62706<br/>\n",
      "<a class=\"links\" href=\"mailto:webmaster@ilga.gov?subject=Email from ILGA Web\" style=\"font-size:8px\">\n",
      "      Contact ILGA Webmaster</a>\n",
      "</td>\n",
      "</tr>\n"
     ]
    }
   ],
   "source": [
    "good_rows = [row for row in rows if len(row) == 5]\n",
    "\n",
    "# Let's check some rows\n",
    "print(good_rows[0], '\\n')\n",
    "print(good_rows[-2], '\\n')\n",
    "print(good_rows[-1])"
   ]
  },
  {
   "cell_type": "markdown",
   "metadata": {},
   "source": [
    "Encontramos una fila de pie de página en nuestra lista que queremos evitar. Probemos algo diferente:"
   ]
  },
  {
   "cell_type": "code",
   "execution_count": 40,
   "metadata": {
    "execution": {
     "iopub.execute_input": "2025-03-23T23:41:37.151352Z",
     "iopub.status.busy": "2025-03-23T23:41:37.150957Z",
     "iopub.status.idle": "2025-03-23T23:41:37.157648Z",
     "shell.execute_reply": "2025-03-23T23:41:37.156749Z",
     "shell.execute_reply.started": "2025-03-23T23:41:37.151321Z"
    }
   },
   "outputs": [
    {
     "data": {
      "text/plain": [
       "[<td bgcolor=\"white\" class=\"detail\" width=\"40%\"><a class=\"notranslate\" href=\"/senate/Senator.asp?GA=98&amp;MemberID=1911\">Pamela J. Althoff</a></td>,\n",
       " <td align=\"center\" bgcolor=\"white\" class=\"detail\" width=\"15%\"><a href=\"SenatorBills.asp?GA=98&amp;MemberID=1911\">Bills</a></td>,\n",
       " <td align=\"center\" bgcolor=\"white\" class=\"detail\" width=\"15%\"><a href=\"SenCommittees.asp?GA=98&amp;MemberID=1911\">Committees</a></td>,\n",
       " <td align=\"center\" bgcolor=\"white\" class=\"detail\" width=\"15%\">32</td>,\n",
       " <td align=\"center\" bgcolor=\"white\" class=\"detail\" width=\"15%\">R</td>]"
      ]
     },
     "execution_count": 40,
     "metadata": {},
     "output_type": "execute_result"
    }
   ],
   "source": [
    "rows[2].select('td.detail') "
   ]
  },
  {
   "cell_type": "code",
   "execution_count": 41,
   "metadata": {
    "execution": {
     "iopub.execute_input": "2025-03-23T23:41:45.128153Z",
     "iopub.status.busy": "2025-03-23T23:41:45.127750Z",
     "iopub.status.idle": "2025-03-23T23:41:45.145115Z",
     "shell.execute_reply": "2025-03-23T23:41:45.143918Z",
     "shell.execute_reply.started": "2025-03-23T23:41:45.128115Z"
    }
   },
   "outputs": [
    {
     "name": "stdout",
     "output_type": "stream",
     "text": [
      "[] \n",
      "\n",
      "[<td bgcolor=\"EBEBEB\" class=\"detail\" width=\"40%\"><a class=\"notranslate\" href=\"/senate/Senator.asp?GA=98&amp;MemberID=2022\">Jennifer Bertino-Tarrant</a></td>, <td align=\"center\" bgcolor=\"EBEBEB\" class=\"detail\" width=\"15%\"><a href=\"SenatorBills.asp?GA=98&amp;MemberID=2022\">Bills</a></td>, <td align=\"center\" bgcolor=\"EBEBEB\" class=\"detail\" width=\"15%\"><a href=\"SenCommittees.asp?GA=98&amp;MemberID=2022\">Committees</a></td>, <td align=\"center\" bgcolor=\"EBEBEB\" class=\"detail\" width=\"15%\">49</td>, <td align=\"center\" bgcolor=\"EBEBEB\" class=\"detail\" width=\"15%\">D</td>] \n",
      "\n",
      "Checking rows...\n",
      "\n",
      "<tr><td bgcolor=\"white\" class=\"detail\" width=\"40%\"><a class=\"notranslate\" href=\"/senate/Senator.asp?GA=98&amp;MemberID=1911\">Pamela J. Althoff</a></td><td align=\"center\" bgcolor=\"white\" class=\"detail\" width=\"15%\"><a href=\"SenatorBills.asp?GA=98&amp;MemberID=1911\">Bills</a></td><td align=\"center\" bgcolor=\"white\" class=\"detail\" width=\"15%\"><a href=\"SenCommittees.asp?GA=98&amp;MemberID=1911\">Committees</a></td><td align=\"center\" bgcolor=\"white\" class=\"detail\" width=\"15%\">32</td><td align=\"center\" bgcolor=\"white\" class=\"detail\" width=\"15%\">R</td></tr> \n",
      "\n",
      "<tr><td bgcolor=\"white\" class=\"detail\" width=\"40%\"><a class=\"notranslate\" href=\"/senate/Senator.asp?GA=98&amp;MemberID=2035\">Patricia Van Pelt</a></td><td align=\"center\" bgcolor=\"white\" class=\"detail\" width=\"15%\"><a href=\"SenatorBills.asp?GA=98&amp;MemberID=2035\">Bills</a></td><td align=\"center\" bgcolor=\"white\" class=\"detail\" width=\"15%\"><a href=\"SenCommittees.asp?GA=98&amp;MemberID=2035\">Committees</a></td><td align=\"center\" bgcolor=\"white\" class=\"detail\" width=\"15%\">5</td><td align=\"center\" bgcolor=\"white\" class=\"detail\" width=\"15%\">D</td></tr>\n"
     ]
    }
   ],
   "source": [
    "# Bad row\n",
    "print(rows[-1].select('td.detail'), '\\n')\n",
    "\n",
    "# Good row\n",
    "print(rows[5].select('td.detail'), '\\n')\n",
    "\n",
    "# How about this?\n",
    "good_rows = [row for row in rows if row.select('td.detail')]\n",
    "\n",
    "print(\"Checking rows...\\n\")\n",
    "print(good_rows[0], '\\n')\n",
    "print(good_rows[-1])"
   ]
  },
  {
   "cell_type": "markdown",
   "metadata": {},
   "source": [
    "¡Parece que encontramos algo que funcionó!"
   ]
  },
  {
   "cell_type": "markdown",
   "metadata": {},
   "source": [
    "# Unir todo en un bucle\n",
    "\n",
    "Ahora que hemos visto cómo obtener los datos que queremos de una fila y filtrar los que no necesitamos, vamos a unirlo todo en un bucle.\n"
   ]
  },
  {
   "cell_type": "code",
   "execution_count": 43,
   "metadata": {
    "execution": {
     "iopub.execute_input": "2025-03-23T23:44:15.539948Z",
     "iopub.status.busy": "2025-03-23T23:44:15.539665Z",
     "iopub.status.idle": "2025-03-23T23:44:15.557758Z",
     "shell.execute_reply": "2025-03-23T23:44:15.556303Z",
     "shell.execute_reply.started": "2025-03-23T23:44:15.539926Z"
    },
    "tags": []
   },
   "outputs": [],
   "source": [
    "# Define storage list\n",
    "members = []\n",
    "\n",
    "# Get rid of junk rows\n",
    "valid_rows = [row for row in rows if row.select('td.detail')]\n",
    "\n",
    "# Loop through all rows\n",
    "for row in valid_rows:\n",
    "    # Select only those 'td' tags with class 'detail'\n",
    "    detail_cells = row.select('td.detail')\n",
    "    # Keep only the text in each of those cells\n",
    "    row_data = [cell.text for cell in detail_cells]\n",
    "    # Collect information\n",
    "    name = row_data[0]\n",
    "    district = int(row_data[3])\n",
    "    party = row_data[4]\n",
    "    # Store in a tuple\n",
    "    senator = (name, district, party)\n",
    "    # Append to list\n",
    "    members.append(senator)"
   ]
  },
  {
   "cell_type": "code",
   "execution_count": 44,
   "metadata": {
    "execution": {
     "iopub.execute_input": "2025-03-23T23:44:21.992401Z",
     "iopub.status.busy": "2025-03-23T23:44:21.992117Z",
     "iopub.status.idle": "2025-03-23T23:44:21.997544Z",
     "shell.execute_reply": "2025-03-23T23:44:21.996565Z",
     "shell.execute_reply.started": "2025-03-23T23:44:21.992378Z"
    }
   },
   "outputs": [
    {
     "data": {
      "text/plain": [
       "61"
      ]
     },
     "execution_count": 44,
     "metadata": {},
     "output_type": "execute_result"
    }
   ],
   "source": [
    "# Should be 61\n",
    "len(members)"
   ]
  },
  {
   "cell_type": "markdown",
   "metadata": {},
   "source": [
    "Echemos un vistazo a lo que tenemos en miembros."
   ]
  },
  {
   "cell_type": "code",
   "execution_count": 45,
   "metadata": {
    "execution": {
     "iopub.execute_input": "2025-03-23T23:44:54.492486Z",
     "iopub.status.busy": "2025-03-23T23:44:54.492182Z",
     "iopub.status.idle": "2025-03-23T23:44:54.496574Z",
     "shell.execute_reply": "2025-03-23T23:44:54.495614Z",
     "shell.execute_reply.started": "2025-03-23T23:44:54.492463Z"
    }
   },
   "outputs": [
    {
     "name": "stdout",
     "output_type": "stream",
     "text": [
      "[('Pamela J. Althoff', 32, 'R'), ('Jason A. Barickman', 53, 'R'), ('Scott M Bennett', 52, 'D'), ('Jennifer Bertino-Tarrant', 49, 'D'), ('Daniel Biss', 9, 'D')]\n"
     ]
    }
   ],
   "source": [
    "print(members[:5])"
   ]
  },
  {
   "cell_type": "markdown",
   "metadata": {},
   "source": [
    "# Desafío: Obtener elementos href que apunten a los proyectos de ley de los miembros\n",
    "\n",
    "El código anterior recupera información sobre:\n",
    "\n",
    "* el nombre del senador\n",
    "* su número de distrito\n",
    "* y su partido.\n",
    "\n",
    "Ahora queremos recuperar la URL de la lista de proyectos de ley de cada senador. Cada URL seguirá un formato específico.\n",
    "\n",
    "El formato de la lista de proyectos de ley de un senador determinado es:\n",
    "\n",
    "https://www.ilga.gov/senate/SenatorBills.asp?GA=98&MemberID=[MEMBER_ID]&Primary=True\n",
    "\n",
    "para obtener algo como:\n",
    "\n",
    "https://www.ilga.gov/senate/SenatorBills.asp?MemberID=1911&GA=98&Primary=True\n",
    "\n",
    "donde MEMBER_ID=1911.\n",
    "\n",
    "Deberías poder ver que, lamentablemente, MEMBER_ID no se extrae actualmente en nuestro código de extracción.\n",
    "\n",
    "Su tarea inicial es modificar el código anterior para que también **recuperemos la URL completa que apunta a la página correspondiente de los proyectos de ley patrocinados por las primarias**, para cada miembro, y la devolvamos junto con su nombre, distrito y partido.\n",
    "\n",
    "Consejos:\n",
    "\n",
    "* Para ello, deberá obtener el elemento de anclaje adecuado (<a>) en la fila de la tabla de cada legislador. Puede usar el método .select() en el objeto de fila del bucle para hacerlo, de forma similar al comando que encuentra todas las celdas td.detail en la fila. Recuerde que solo necesitamos el enlace a los proyectos de ley del legislador, no a los comités ni a su página de perfil.\n",
    "\n",
    "* El HTML de los elementos de anclaje se verá así: <a href=\"/senate/Senator.asp/...\">Bills</a>. La cadena del atributo href contiene el enlace relativo que buscamos. Puede acceder a un atributo de un objeto de etiqueta BeatifulSoup de la misma manera que accede a un diccionario de Python: anchor['attributeName']. Consulte la documentación para obtener más detalles.\n",
    "\n",
    "* Hay muchas maneras de usar BeautifulSoup para hacer cosas. Cualquier cosa que necesites hacer para extraer el href está bien.\n",
    "\n",
    "El código se ha completado parcialmente. Complétalo donde dice #TU CÓDIGO AQUÍ. Guarda la ruta en un objeto llamado full_path.\n"
   ]
  },
  {
   "cell_type": "code",
   "execution_count": 46,
   "metadata": {
    "execution": {
     "iopub.execute_input": "2025-03-23T23:53:04.816073Z",
     "iopub.status.busy": "2025-03-23T23:53:04.815789Z",
     "iopub.status.idle": "2025-03-23T23:53:05.338667Z",
     "shell.execute_reply": "2025-03-23T23:53:05.337566Z",
     "shell.execute_reply.started": "2025-03-23T23:53:04.816052Z"
    },
    "tags": []
   },
   "outputs": [],
   "source": [
    "# Make a GET request\n",
    "req = requests.get('https://www.ilga.gov/senate/default.asp?GA=98')\n",
    "# Read the content of the server’s response\n",
    "src = req.text\n",
    "# Soup it\n",
    "soup = BeautifulSoup(src, \"lxml\")\n",
    "# Create empty list to store our data\n",
    "members = []\n",
    "\n",
    "# Returns every ‘tr tr tr’ css selector in the page\n",
    "rows = soup.select('tr tr tr')\n",
    "# Get rid of junk rows\n",
    "rows = [row for row in rows if row.select('td.detail')]\n",
    "\n",
    "# Loop through all rows\n",
    "for row in rows:\n",
    "    # Select only those 'td' tags with class 'detail'\n",
    "    detail_cells = row.select('td.detail') \n",
    "    # Keep only the text in each of those cells\n",
    "    row_data = [cell.text for cell in detail_cells]\n",
    "    # Collect information\n",
    "    name = row_data[0]\n",
    "    district = int(row_data[3])\n",
    "    party = row_data[4]\n",
    "\n",
    "    # YOUR CODE HERE\n",
    "    full_path = 'https://www.ilga.gov/senate/\" + href + \"&Primary=True'\n",
    "\n",
    "    # Store in a tuple\n",
    "    senator = (name, district, party, full_path)\n",
    "    # Append to list\n",
    "    members.append(senator)"
   ]
  },
  {
   "cell_type": "code",
   "execution_count": 47,
   "metadata": {
    "execution": {
     "iopub.execute_input": "2025-03-23T23:53:47.813778Z",
     "iopub.status.busy": "2025-03-23T23:53:47.813485Z",
     "iopub.status.idle": "2025-03-23T23:53:47.819485Z",
     "shell.execute_reply": "2025-03-23T23:53:47.818474Z",
     "shell.execute_reply.started": "2025-03-23T23:53:47.813757Z"
    },
    "tags": []
   },
   "outputs": [
    {
     "data": {
      "text/plain": [
       "[('Pamela J. Althoff',\n",
       "  32,\n",
       "  'R',\n",
       "  'https://www.ilga.gov/senate/\" + href + \"&Primary=True'),\n",
       " ('Jason A. Barickman',\n",
       "  53,\n",
       "  'R',\n",
       "  'https://www.ilga.gov/senate/\" + href + \"&Primary=True'),\n",
       " ('Scott M Bennett',\n",
       "  52,\n",
       "  'D',\n",
       "  'https://www.ilga.gov/senate/\" + href + \"&Primary=True'),\n",
       " ('Jennifer Bertino-Tarrant',\n",
       "  49,\n",
       "  'D',\n",
       "  'https://www.ilga.gov/senate/\" + href + \"&Primary=True'),\n",
       " ('Daniel Biss',\n",
       "  9,\n",
       "  'D',\n",
       "  'https://www.ilga.gov/senate/\" + href + \"&Primary=True')]"
      ]
     },
     "execution_count": 47,
     "metadata": {},
     "output_type": "execute_result"
    }
   ],
   "source": [
    "# Uncomment to test \n",
    "members[:5]\n",
    "\n",
    "\n"
   ]
  },
  {
   "cell_type": "markdown",
   "metadata": {},
   "source": [
    "# Desafío: Modulariza tu código\n",
    "\n",
    "Convierte el código anterior en una función que acepte una URL, rastree la URL en busca de sus senadores y devuelva una lista de tuplas con información sobre cada senador.\n"
   ]
  },
  {
   "cell_type": "code",
   "execution_count": 48,
   "metadata": {
    "execution": {
     "iopub.execute_input": "2025-03-24T00:02:26.306191Z",
     "iopub.status.busy": "2025-03-24T00:02:26.305519Z",
     "iopub.status.idle": "2025-03-24T00:02:26.313706Z",
     "shell.execute_reply": "2025-03-24T00:02:26.312638Z",
     "shell.execute_reply.started": "2025-03-24T00:02:26.306107Z"
    },
    "tags": []
   },
   "outputs": [],
   "source": [
    "# YOUR CODE HERE\n",
    "def get_members(url):\n",
    "    # Make a GET request\n",
    "    req = requests.get(url)\n",
    "    # Read the content of the server’s response\n",
    "    src = req.text\n",
    "    # Soup it\n",
    "    soup = BeautifulSoup(src, \"lxml\")\n",
    "    # Create empty list to store our data\n",
    "    members = []\n",
    "\n",
    "    # Returns every ‘tr tr tr’ css selector in the page\n",
    "    rows = soup.select('tr tr tr')\n",
    "    # Get rid of junk rows\n",
    "    rows = [row for row in rows if row.select('td.detail')]\n",
    "\n",
    "    # Loop through all rows\n",
    "    for row in rows:\n",
    "        # Select only those 'td' tags with class 'detail'\n",
    "        detail_cells = row.select('td.detail') \n",
    "        # Keep only the text in each of those cells\n",
    "        row_data = [cell.text for cell in detail_cells]\n",
    "        # Collect information\n",
    "        name = row_data[0]\n",
    "        district = int(row_data[3])\n",
    "        party = row_data[4]\n",
    "\n",
    "        # YOUR CODE HERE\n",
    "        # Extract href\n",
    "        href = row.select('a')[1]['href']\n",
    "        # Create full path\n",
    "        full_path = \"https://www.ilga.gov/senate/\" + href + \"&Primary=True\"\n",
    "\n",
    "        # Store in a tuple\n",
    "        senator = (name, district, party, full_path)\n",
    "        # Append to list\n",
    "        members.append(senator)\n",
    "    return(members)\n"
   ]
  },
  {
   "cell_type": "code",
   "execution_count": 50,
   "metadata": {
    "execution": {
     "iopub.execute_input": "2025-03-24T00:03:20.231478Z",
     "iopub.status.busy": "2025-03-24T00:03:20.231174Z",
     "iopub.status.idle": "2025-03-24T00:03:20.950428Z",
     "shell.execute_reply": "2025-03-24T00:03:20.949625Z",
     "shell.execute_reply.started": "2025-03-24T00:03:20.231453Z"
    },
    "tags": []
   },
   "outputs": [
    {
     "data": {
      "text/plain": [
       "61"
      ]
     },
     "execution_count": 50,
     "metadata": {},
     "output_type": "execute_result"
    }
   ],
   "source": [
    "# Test your code\n",
    "url = 'http://www.ilga.gov/senate/default.asp?GA=98'\n",
    "senate_members = get_members(url)\n",
    "len(senate_members)"
   ]
  },
  {
   "cell_type": "markdown",
   "metadata": {},
   "source": [
    "# Reto práctico: Escribir una función de scraping\n",
    "\n",
    "Queremos scraping las páginas web correspondientes a los proyectos de ley patrocinados por cada proyecto de ley.\n",
    "\n",
    "Escribir una función llamada get_bills(url) para analizar la URL de un proyecto de ley. Esto implica:\n",
    "Solicitar la URL mediante la biblioteca de solicitudes.\n",
    "\n",
    "Usar las funciones de la biblioteca BeautifulSoup para encontrar todos los elementos <td> con la clase billlist.\n",
    "\n",
    "Devolver una lista de tuplas, cada una con:\n",
    "\n",
    "* descripción (2.ª columna).\n",
    "* cámara (S o H) (3.ª columna).\n",
    "* la última acción (4.ª columna).\n",
    "* la fecha de la última acción (5.ª columna).\n",
    "\n",
    "Esta función se ha completado parcialmente. Complete el resto.\n"
   ]
  },
  {
   "cell_type": "code",
   "execution_count": 53,
   "metadata": {
    "execution": {
     "iopub.execute_input": "2025-03-24T00:09:23.791258Z",
     "iopub.status.busy": "2025-03-24T00:09:23.790880Z",
     "iopub.status.idle": "2025-03-24T00:09:23.796993Z",
     "shell.execute_reply": "2025-03-24T00:09:23.795684Z",
     "shell.execute_reply.started": "2025-03-24T00:09:23.791231Z"
    },
    "tags": []
   },
   "outputs": [],
   "source": [
    "def get_bills(url):\n",
    "    src = requests.get(url).text\n",
    "    soup = BeautifulSoup(src)\n",
    "    rows = soup.select('tr tr tr')\n",
    "    bills = []\n",
    "      for row in rows:\n",
    "            cells = row.select('td.billlist')\n",
    "        # Keep in mind the name of the senator is not a billlist class!\n",
    "        if len(cells) == 5:\n",
    "            row_text = [cell.text for cell in cells]\n",
    "            # Extract info from row text\n",
    "            bill_id = row_text[0]\n",
    "            description = row_text[1]\n",
    "            chamber = row_text[2]\n",
    "            last_action = row_text[3]\n",
    "            last_action_date = row_text[4]\n",
    "            bill = (bill_id, description, chamber, last_action, last_action_date)\n",
    "            bills.append(bill)\n",
    "    return bills"
   ]
  },
  {
   "cell_type": "code",
   "execution_count": 55,
   "metadata": {
    "execution": {
     "iopub.execute_input": "2025-03-24T00:10:05.720851Z",
     "iopub.status.busy": "2025-03-24T00:10:05.720556Z",
     "iopub.status.idle": "2025-03-24T00:10:06.752430Z",
     "shell.execute_reply": "2025-03-24T00:10:06.751566Z",
     "shell.execute_reply.started": "2025-03-24T00:10:05.720827Z"
    },
    "tags": []
   },
   "outputs": [
    {
     "data": {
      "text/plain": [
       "[('SB27', 'MEDICAID BUDGET NOTE ACT', 'S', 'Session Sine Die', '1/13/2015'),\n",
       " ('SB28',\n",
       "  'HOMELESS VETERANS SHELTER ACT',\n",
       "  'S',\n",
       "  'Session Sine Die',\n",
       "  '1/13/2015'),\n",
       " ('SB29', 'ROAD FUND-NO TRANSFERS', 'S', 'Session Sine Die', '1/13/2015'),\n",
       " ('SB33',\n",
       "  'EPA-RULES-DOCUMENT SUBMISSION',\n",
       "  'S',\n",
       "  'Public Act . . . . . . . . . 98-0072',\n",
       "  '7/15/2013'),\n",
       " ('SB104',\n",
       "  'MIN WAGE-OVERTIME-ALTERN SHIFT',\n",
       "  'S',\n",
       "  'Session Sine Die',\n",
       "  '1/13/2015')]"
      ]
     },
     "execution_count": 55,
     "metadata": {},
     "output_type": "execute_result"
    }
   ],
   "source": [
    "# Uncomment to test your code\n",
    "test_url = senate_members[0][3]\n",
    "get_bills(test_url)[0:5]"
   ]
  },
  {
   "cell_type": "markdown",
   "metadata": {},
   "source": [
    "# Extraer todos los proyectos de ley\n",
    "\n",
    "Finalmente, cree un diccionario bills_dict que asigne un número de distrito (la clave) a una lista de proyectos de ley (el valor) provenientes de ese distrito. Puede hacerlo recorriendo todos los miembros del senado en members_dict y llamando a get_bills() para cada una de las URL de sus proyectos de ley asociados.\n",
    "\n",
    "**NOTA:** Por favor, llame a la función time.sleep(1) en cada iteración del bucle para no destruir el sitio web del estado.\n"
   ]
  },
  {
   "cell_type": "code",
   "execution_count": 56,
   "metadata": {
    "execution": {
     "iopub.execute_input": "2025-03-24T00:11:15.250924Z",
     "iopub.status.busy": "2025-03-24T00:11:15.250609Z",
     "iopub.status.idle": "2025-03-24T00:11:23.485322Z",
     "shell.execute_reply": "2025-03-24T00:11:23.484274Z",
     "shell.execute_reply.started": "2025-03-24T00:11:15.250899Z"
    },
    "tags": []
   },
   "outputs": [],
   "source": [
    "# YOUR CODE HERE\n",
    "bills_dict = {}\n",
    "for member in senate_members[:5]:\n",
    "    bills_dict[member[1]] = get_bills(member[3])\n",
    "    time.sleep(1)\n"
   ]
  },
  {
   "cell_type": "code",
   "execution_count": 57,
   "metadata": {
    "execution": {
     "iopub.execute_input": "2025-03-24T00:11:27.538848Z",
     "iopub.status.busy": "2025-03-24T00:11:27.538570Z",
     "iopub.status.idle": "2025-03-24T00:11:27.543286Z",
     "shell.execute_reply": "2025-03-24T00:11:27.542566Z",
     "shell.execute_reply.started": "2025-03-24T00:11:27.538826Z"
    },
    "tags": []
   },
   "outputs": [
    {
     "data": {
      "text/plain": [
       "[('SR1730',\n",
       "  'MEMORIAL - THOMAS G. HAYS',\n",
       "  'S',\n",
       "  'Resolution Adopted',\n",
       "  '1/13/2015')]"
      ]
     },
     "execution_count": 57,
     "metadata": {},
     "output_type": "execute_result"
    }
   ],
   "source": [
    "# Uncomment to test your code\n",
    "bills_dict[52]"
   ]
  }
 ],
 "metadata": {
  "anaconda-cloud": {},
  "kaggle": {
   "accelerator": "none",
   "dataSources": [],
   "dockerImageVersionId": 30918,
   "isGpuEnabled": false,
   "isInternetEnabled": true,
   "language": "python",
   "sourceType": "notebook"
  },
  "kernelspec": {
   "display_name": "Python 3 (ipykernel)",
   "language": "python",
   "name": "python3"
  },
  "language_info": {
   "codemirror_mode": {
    "name": "ipython",
    "version": 3
   },
   "file_extension": ".py",
   "mimetype": "text/x-python",
   "name": "python",
   "nbconvert_exporter": "python",
   "pygments_lexer": "ipython3",
   "version": "3.13.2"
  },
  "vscode": {
   "interpreter": {
    "hash": "b6f9fe9f4b7182690503d8ecc2bae97b0ee3ebf54e877167ae4d28c119a56988"
   }
  }
 },
 "nbformat": 4,
 "nbformat_minor": 4
}
